{
 "cells": [
  {
   "cell_type": "markdown",
   "id": "83110adc",
   "metadata": {},
   "source": [
    "# **A. Import Library Packages**"
   ]
  },
  {
   "cell_type": "code",
   "execution_count": 1,
   "id": "3a3606b6",
   "metadata": {},
   "outputs": [],
   "source": [
    "# Import Library Packages\n",
    "import pandas as pd\n",
    "import numpy as np\n",
    "import joblib"
   ]
  },
  {
   "cell_type": "markdown",
   "id": "298f4935",
   "metadata": {},
   "source": [
    "# **B. Load the Model**"
   ]
  },
  {
   "cell_type": "code",
   "execution_count": 2,
   "id": "5816c2be",
   "metadata": {},
   "outputs": [],
   "source": [
    "# Load the Model\n",
    "best_model = joblib.load('best_model.pkl')"
   ]
  },
  {
   "cell_type": "markdown",
   "id": "025e2ec3",
   "metadata": {},
   "source": [
    "# **C. Create a New Data**"
   ]
  },
  {
   "cell_type": "code",
   "execution_count": null,
   "id": "96443f6e",
   "metadata": {},
   "outputs": [
    {
     "data": {
      "text/html": [
       "<div>\n",
       "<style scoped>\n",
       "    .dataframe tbody tr th:only-of-type {\n",
       "        vertical-align: middle;\n",
       "    }\n",
       "\n",
       "    .dataframe tbody tr th {\n",
       "        vertical-align: top;\n",
       "    }\n",
       "\n",
       "    .dataframe thead th {\n",
       "        text-align: right;\n",
       "    }\n",
       "</style>\n",
       "<table border=\"1\" class=\"dataframe\">\n",
       "  <thead>\n",
       "    <tr style=\"text-align: right;\">\n",
       "      <th></th>\n",
       "      <th>Age</th>\n",
       "      <th>Academic Pressure</th>\n",
       "      <th>CGPA</th>\n",
       "      <th>Study Satisfaction</th>\n",
       "      <th>Job Satisfaction</th>\n",
       "      <th>Work/Study Hours</th>\n",
       "      <th>Gender</th>\n",
       "      <th>City</th>\n",
       "      <th>Profession</th>\n",
       "      <th>Work Pressure</th>\n",
       "      <th>Sleep Duration</th>\n",
       "      <th>Dietary Habits</th>\n",
       "      <th>Degree</th>\n",
       "      <th>Have you ever had suicidal thoughts ?</th>\n",
       "      <th>Financial Stress</th>\n",
       "      <th>Family History of Mental Illness</th>\n",
       "    </tr>\n",
       "  </thead>\n",
       "  <tbody>\n",
       "    <tr>\n",
       "      <th>0</th>\n",
       "      <td>20</td>\n",
       "      <td>3</td>\n",
       "      <td>8.1</td>\n",
       "      <td>4</td>\n",
       "      <td>5</td>\n",
       "      <td>5</td>\n",
       "      <td>Female</td>\n",
       "      <td>Mumbai</td>\n",
       "      <td>Student</td>\n",
       "      <td>Yes</td>\n",
       "      <td>6-7 hours</td>\n",
       "      <td>Moderate</td>\n",
       "      <td>Class 12</td>\n",
       "      <td>No</td>\n",
       "      <td>Yes</td>\n",
       "      <td>No</td>\n",
       "    </tr>\n",
       "  </tbody>\n",
       "</table>\n",
       "</div>"
      ],
      "text/plain": [
       "   Age  Academic Pressure  CGPA  Study Satisfaction  Job Satisfaction  \\\n",
       "0   20                  3   8.1                   4                 5   \n",
       "\n",
       "   Work/Study Hours  Gender    City Profession Work Pressure Sleep Duration  \\\n",
       "0                 5  Female  Mumbai    Student           Yes      6-7 hours   \n",
       "\n",
       "  Dietary Habits    Degree Have you ever had suicidal thoughts ?  \\\n",
       "0       Moderate  Class 12                                    No   \n",
       "\n",
       "  Financial Stress Family History of Mental Illness  \n",
       "0              Yes                               No  "
      ]
     },
     "execution_count": 3,
     "metadata": {},
     "output_type": "execute_result"
    }
   ],
   "source": [
    "# Create a new dataframe\n",
    "df_new = pd.DataFrame({\n",
    "    'Age': [20],\n",
    "    'Academic Pressure': [3],\n",
    "    'CGPA': [8.1],\n",
    "    'Study Satisfaction': [4],\n",
    "    'Job Satisfaction': [5],\n",
    "    'Work/Study Hours': [5],\n",
    "    'Gender': ['Female'],\n",
    "    'City': ['Mumbai'],\n",
    "    'Profession': ['Student'],\n",
    "    'Work Pressure': ['Yes'],\n",
    "    'Sleep Duration': ['6-7 hours'],\n",
    "    'Dietary Habits': ['Moderate'],\n",
    "    'Degree': ['Class 12'],\n",
    "    'Have you ever had suicidal thoughts ?': ['No'],\n",
    "    'Financial Stress': ['Yes'],\n",
    "    'Family History of Mental Illness': ['No']\n",
    "})\n",
    "\n",
    "# Show the output\n",
    "df_new"
   ]
  },
  {
   "cell_type": "markdown",
   "id": "75ddbada",
   "metadata": {},
   "source": [
    "# **D. Do the Inference**"
   ]
  },
  {
   "cell_type": "code",
   "execution_count": 4,
   "id": "23536e7a",
   "metadata": {},
   "outputs": [
    {
     "name": "stdout",
     "output_type": "stream",
     "text": [
      "Prediction:  0\n",
      "Probability:  0.1335816635871956\n"
     ]
    }
   ],
   "source": [
    "# Create prediction\n",
    "y_pred = best_model.predict(df_new)\n",
    "\n",
    "# Probability Prediction\n",
    "y_proba = best_model.predict_proba(df_new)\n",
    "\n",
    "# Show the output\n",
    "print('Prediction: ', y_pred[0])\n",
    "print('Probability: ', y_proba[0][1])"
   ]
  }
 ],
 "metadata": {
  "kernelspec": {
   "display_name": "base",
   "language": "python",
   "name": "python3"
  },
  "language_info": {
   "codemirror_mode": {
    "name": "ipython",
    "version": 3
   },
   "file_extension": ".py",
   "mimetype": "text/x-python",
   "name": "python",
   "nbconvert_exporter": "python",
   "pygments_lexer": "ipython3",
   "version": "3.12.7"
  }
 },
 "nbformat": 4,
 "nbformat_minor": 5
}
